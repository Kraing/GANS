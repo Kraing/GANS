{
 "cells": [
  {
   "cell_type": "code",
   "execution_count": 1,
   "metadata": {},
   "outputs": [
    {
     "name": "stderr",
     "output_type": "stream",
     "text": [
      "COMET INFO: old comet version (3.1.14) detected. current: 3.1.15 please update your comet lib with command: `pip install --no-cache-dir --upgrade comet_ml`\n",
      "COMET INFO: Experiment is live on comet.ml https://www.comet.ml/kraing/gan/c733b9c7901c42839b98b1daf45a647e\n",
      "\n",
      "Using TensorFlow backend.\n"
     ]
    }
   ],
   "source": [
    "# import comet_ml in the top of your file\n",
    "from comet_ml import Experiment\n",
    "    \n",
    "# Add the following code anywhere in your machine learning file\n",
    "experiment = Experiment(api_key=\"XEglZlWHI72CqIq1hcr3RSw7j\", project_name=\"GAN\", workspace=\"kraing\")\n",
    "\n",
    "# Numpy and matplotlib\n",
    "import numpy as np\n",
    "import matplotlib.pyplot as plt\n",
    "\n",
    "# Dataset\n",
    "import keras.datasets as ds\n",
    "\n",
    "# Unconditional GAN\n",
    "from keras.optimizers import Adam\n",
    "from keras.models import Sequential\n",
    "from keras.layers import Dense, Reshape, Flatten, Conv2D, Conv2DTranspose, LeakyReLU, Dropout, BatchNormalization, UpSampling2D\n",
    "\n",
    "# Conditional GAN\n",
    "from keras.models import Model\n",
    "from keras.layers import Input, Embedding, Concatenate\n",
    "\n",
    "# Visualization tools\n",
    "from IPython.display import clear_output, Image\n",
    "import time"
   ]
  },
  {
   "cell_type": "code",
   "execution_count": 2,
   "metadata": {},
   "outputs": [],
   "source": [
    "# Load selected dataset\n",
    "def load_dataset(dataset):\n",
    "\n",
    "    if dataset == 'MNIST':\n",
    "        (trainX, trainy), (_, _) = ds.mnist.load_data()\n",
    "\n",
    "    if dataset == 'Fashion-MNIST':\n",
    "        (trainX, trainy), (_, _) = ds.fashion_mnist.load_data()\n",
    "\n",
    "    # Exapnd to 3D adding one channel\n",
    "    X = np.expand_dims(trainX, axis=-1)\n",
    "\n",
    "    # Convert from int to float and rescale from [0, 255] to [-1, 1]\n",
    "    X = X.astype('float32')\n",
    "    X = (X - (255 / 2)) / (255 / 2)\n",
    "    #X = X / 255.\n",
    "    return [X, trainy]\n",
    "\n",
    "\n",
    "\n",
    "# Build Discriminator\n",
    "def build_discriminator(input_shape):\n",
    "\n",
    "    # Initialize the NN\n",
    "    model = Sequential()\n",
    "\n",
    "    # First convolutional layer\n",
    "    model.add(Conv2D(128, 3, strides=2, padding='same', input_shape=input_shape))\n",
    "    model.add(LeakyReLU(alpha=0.2))\n",
    "    #model.add(Dropout(0.4))\n",
    "\n",
    "    # Second convolutional layer\n",
    "    model.add(Conv2D(256, 3, strides=2, padding='same'))\n",
    "    model.add(LeakyReLU(alpha=0.2))\n",
    "    model.add(Dropout(0.4))\n",
    "    \n",
    "    '''\n",
    "    # Second convolutional layer\n",
    "    model.add(Conv2D(512, 3, strides=2, padding='same'))\n",
    "    model.add(LeakyReLU(alpha=0.2))\n",
    "    model.add(Dropout(0.4))\n",
    "    '''\n",
    "    \n",
    "    # Flattening and output layer\n",
    "    model.add(Flatten())\n",
    "    model.add(Dropout(0.4))\n",
    "    model.add(Dense(1, activation='sigmoid'))\n",
    "\n",
    "    opt = Adam(lr=0.0002, beta_1=0.5)\n",
    "    model.compile(loss='binary_crossentropy', optimizer=opt, metrics=['accuracy'])\n",
    "    return model\n",
    "\n",
    "\n",
    "\n",
    "# Build Generator with default latent_space=100\n",
    "def build_generator(latent_dim=100):\n",
    "\n",
    "    # Initialize the NN\n",
    "    model = Sequential()\n",
    "\n",
    "    # Fully connected layer\n",
    "    model.add(Dense(7 * 7 * 256, input_dim=latent_dim))\n",
    "    model.add(BatchNormalization(momentum=0.9))\n",
    "    model.add(LeakyReLU(alpha=0.2))\n",
    "    model.add(Reshape((7, 7, 256)))\n",
    "    model.add(Dropout(0.4))\n",
    "\n",
    "    # First upsampling layer 14x14\n",
    "    model.add(UpSampling2D())\n",
    "    model.add(Conv2D(256, 3, padding='same'))\n",
    "    model.add(BatchNormalization(momentum=0.9))\n",
    "    model.add(LeakyReLU(alpha=0.2))\n",
    "    \n",
    "    # Second upsampling layer 28x28\n",
    "    model.add(UpSampling2D())\n",
    "    model.add(Conv2D(128, 3, padding='same'))\n",
    "    model.add(BatchNormalization(momentum=0.9))\n",
    "    model.add(LeakyReLU(alpha=0.2))\n",
    "    \n",
    "    '''\n",
    "    # Second upsampling layer 28x28\n",
    "    model.add(Conv2D(64, 5, padding='same'))\n",
    "    model.add(BatchNormalization(momentum=0.9))\n",
    "    model.add(LeakyReLU(alpha=0.2))\n",
    "    '''\n",
    "    \n",
    "    # Output layer\n",
    "    model.add(Conv2D(1, 3, activation='tanh', padding='same'))\n",
    "    return model\n",
    "\n",
    "\n",
    "\n",
    "# Build the GAN framework\n",
    "def build_gan(D, G, input_shape, latent_dim):\n",
    "\n",
    "    opt = Adam(lr=0.0002, beta_1=0.5)\n",
    "\n",
    "    # Freeze discriminator weights during generator training\n",
    "    D.trainable = False\n",
    "    #D.compile(loss='binary_crossentropy', optimizer=opt, metrics=['accuracy'])\n",
    "    \n",
    "    # Connect generator and discriminator\n",
    "    GAN = Sequential()\n",
    "    GAN.add(G)\n",
    "    GAN.add(D)\n",
    "    GAN.compile(loss='binary_crossentropy', optimizer=opt, metrics=['accuracy'])\n",
    "    return GAN"
   ]
  },
  {
   "cell_type": "code",
   "execution_count": 6,
   "metadata": {},
   "outputs": [],
   "source": [
    "def gen_real(dataset, batch_size):\n",
    "    X = dataset[np.random.randint(0, dataset.shape[0], size=batch_size), :, :, :]\n",
    "    y = np.ones((batch_size, 1))\n",
    "    return X, y\n",
    "\n",
    "\n",
    "def gen_fake(G, latent_dim, batch_size):\n",
    "    z = np.random.randn(latent_dim * batch_size)\n",
    "    z = z.reshape(batch_size, latent_dim)\n",
    "    X = G.predict(z)\n",
    "    y = np.zeros((batch_size, 1))\n",
    "    return X, y\n",
    "\n",
    "\n",
    "def save_plot(G, noise, epoch):\n",
    "    # Plot generator prediction on sample_noise\n",
    "    images = G.predict(noise)\n",
    "    plt.figure(figsize=(10,10))\n",
    "        \n",
    "    for im in range(images.shape[0]):\n",
    "        plt.subplot(4, 4, im+1)\n",
    "        image = images[im, :, :, :]\n",
    "        image = np.reshape(image, [28, 28])\n",
    "            \n",
    "        plt.imshow(image, cmap='gray')\n",
    "        plt.axis('off')\n",
    "        \n",
    "    plt.tight_layout()\n",
    "    plt.savefig(f'Output/MNIST-D/{epoch}.png')\n",
    "    plt.close('all')\n",
    "    \n",
    "    \n",
    "def save_model(epoch, G, D, name):\n",
    "    \n",
    "    # save the generator model tile file\n",
    "    filename = f'Model/{name}/G_{epoch + 1}.h5'\n",
    "    G.save(filename)\n",
    "    \n",
    "    # save the generator model tile file\n",
    "    filename = f'Model/{name}/D_{epoch + 1}.h5'\n",
    "    G.save(filename)\n",
    "\n",
    "    \n",
    "# Train the GAN\n",
    "def train(D, G, GAN, dataset, name, latent_dim=100, epochs=20, batch_size=128):\n",
    "    \n",
    "    batch_per_epoch = int(dataset.shape[0] / batch_size)\n",
    "    half_batch = int(batch_size / 2)\n",
    "    sample_noise = np.random.randn(latent_dim * 16).reshape(16, latent_dim)\n",
    "    \n",
    "    D_loss = []\n",
    "    D_acc_r = []\n",
    "    D_acc_f = []\n",
    "    \n",
    "    G_loss = []\n",
    "    G_acc = []\n",
    "    \n",
    "    etime = []\n",
    "    \n",
    "\n",
    "    # Loop over epochs\n",
    "    for epoch in range(epochs):\n",
    "        \n",
    "        save_plot(G, sample_noise, epoch)\n",
    "        \n",
    "        start_t = time.time()\n",
    "        \n",
    "        eD_loss = []\n",
    "        eD_acc_r = []\n",
    "        eD_acc_f = []\n",
    "        \n",
    "        eG_loss = []\n",
    "        eG_acc = []\n",
    "        \n",
    "        for mbatch in range(batch_per_epoch):\n",
    "\n",
    "            # Random select half_batch real samples\n",
    "            realX, realY = gen_real(dataset, half_batch)\n",
    "            \n",
    "            # Random generate half_batch fake samples\n",
    "            fakeX, fakeY = gen_fake(G, latent_dim, half_batch)\n",
    "            \n",
    "            '''\n",
    "            # Stacks all samples together and train the discriminator ---> should be faster\n",
    "            #X, y = np.vstack((realX, fakeX)), np.vstack((realY, fakeY))\n",
    "            #D_stats = D.train_on_batch(X, y)\n",
    "            '''\n",
    "            \n",
    "            # Train the discriminator on the real batch, and generated batch\n",
    "            D_stats_real = D.train_on_batch(realX, realY)\n",
    "            D_stats_fake = D.train_on_batch(fakeX, fakeY)\n",
    "            \n",
    "            # Generate random noise and labels to train the Generator\n",
    "            Z_gan = np.random.randn(latent_dim * batch_size).reshape(batch_size, latent_dim)\n",
    "            y_gan = np.ones((batch_size, 1))\n",
    "            G_stats = GAN.train_on_batch(Z_gan, y_gan)\n",
    "            \n",
    "            # Save batch parameters\n",
    "            eD_loss.append(0.5 * (D_stats_real[0] + D_stats_fake[0]))\n",
    "            eD_acc_r.append(D_stats_real[1])\n",
    "            eD_acc_f.append(D_stats_fake[1])\n",
    "                           \n",
    "            eG_loss.append(G_stats[0])\n",
    "            eG_acc.append(G_stats[1])\n",
    "            \n",
    "            # Log comet metrics\n",
    "            experiment.log_metrics({\"loss_d\":0.5 * (D_stats_real[0] + D_stats_fake[0]), \"loss_g\":G_stats[0], \"acc_d_real\":D_stats_real[1], \"acc_d_fake\":D_stats_fake[1], \"acc_g\":G_stats[1]}, step=(batch_per_epoch * epoch + mbatch))\n",
    "        \n",
    "        end_t = time.time()\n",
    "        \n",
    "        # Save all\n",
    "        D_loss.append(eD_loss)\n",
    "        D_acc_r.append(eD_acc_r)\n",
    "        D_acc_f.append(eD_acc_f)\n",
    "        G_loss.append(eG_loss)\n",
    "        G_acc.append(eG_acc)\n",
    "        etime.append(end_t - start_t)\n",
    "        \n",
    "        save_plot(G, sample_noise, epoch)\n",
    "        save_model(epoch, G, D, name)\n",
    "\n",
    "        # Print epoch mean value\n",
    "        print('Epoch-%2d: dl=%.3f gl=%.3f   da_r=%.3f da_f=%.3f   ga=%.3f   time=%.3f' %(epoch, np.mean(eD_loss), np.mean(eG_loss), np.mean(eD_acc_r), np.mean(eD_acc_f), np.mean(eG_acc), (etime[epoch])))\n",
    "\n",
    "    return D_loss, D_acc_r, D_acc_f, G_loss, G_acc"
   ]
  },
  {
   "cell_type": "code",
   "execution_count": 7,
   "metadata": {},
   "outputs": [],
   "source": [
    "# Load dataset\n",
    "trainX, trainy = load_dataset('MNIST')\n",
    "\n",
    "# Define latent space>\n",
    "latent_space = 100\n",
    "in_shape = (trainX[0].shape[0], trainX[0].shape[1], 1)\n",
    "\n",
    "# Build Generator and Discriminator\n",
    "D = build_discriminator(input_shape=in_shape)\n",
    "G = build_generator(latent_dim=latent_space)\n",
    "\n",
    "# Create DCGAN framework\n",
    "GAN = build_gan(D, G, in_shape, latent_space)\n"
   ]
  },
  {
   "cell_type": "code",
   "execution_count": null,
   "metadata": {},
   "outputs": [],
   "source": []
  },
  {
   "cell_type": "code",
   "execution_count": null,
   "metadata": {},
   "outputs": [],
   "source": []
  },
  {
   "cell_type": "code",
   "execution_count": 8,
   "metadata": {},
   "outputs": [
    {
     "name": "stderr",
     "output_type": "stream",
     "text": [
      "C:\\Users\\Ax09\\Anaconda3\\envs\\tensorflow_gpuenv\\lib\\site-packages\\keras\\engine\\training.py:297: UserWarning: Discrepancy between trainable weights and collected trainable weights, did you set `model.trainable` without calling `model.compile` after ?\n",
      "  'Discrepancy between trainable weights and collected trainable'\n",
      "C:\\Users\\Ax09\\Anaconda3\\envs\\tensorflow_gpuenv\\lib\\site-packages\\keras\\engine\\training.py:297: UserWarning: Discrepancy between trainable weights and collected trainable weights, did you set `model.trainable` without calling `model.compile` after ?\n",
      "  'Discrepancy between trainable weights and collected trainable'\n",
      "C:\\Users\\Ax09\\Anaconda3\\envs\\tensorflow_gpuenv\\lib\\site-packages\\keras\\engine\\training.py:297: UserWarning: Discrepancy between trainable weights and collected trainable weights, did you set `model.trainable` without calling `model.compile` after ?\n",
      "  'Discrepancy between trainable weights and collected trainable'\n"
     ]
    },
    {
     "name": "stdout",
     "output_type": "stream",
     "text": [
      "Epoch- 0: dl=0.665 gl=0.637   da_r=0.611 da_f=0.407   ga=0.519   time=51.956\n",
      "Epoch- 1: dl=0.690 gl=0.720   da_r=0.594 da_f=0.480   ga=0.327   time=49.744\n",
      "Epoch- 2: dl=0.693 gl=0.705   da_r=0.623 da_f=0.402   ga=0.424   time=48.710\n",
      "Epoch- 3: dl=0.692 gl=0.708   da_r=0.576 da_f=0.459   ga=0.392   time=47.120\n",
      "Epoch- 4: dl=0.692 gl=0.708   da_r=0.567 da_f=0.474   ga=0.391   time=47.247\n",
      "Epoch- 5: dl=0.691 gl=0.709   da_r=0.564 da_f=0.484   ga=0.385   time=51.166\n",
      "Epoch- 6: dl=0.691 gl=0.711   da_r=0.557 da_f=0.497   ga=0.380   time=49.163\n",
      "Epoch- 7: dl=0.690 gl=0.713   da_r=0.563 da_f=0.500   ga=0.379   time=49.434\n",
      "Epoch- 8: dl=0.690 gl=0.715   da_r=0.559 da_f=0.510   ga=0.375   time=48.070\n",
      "Epoch- 9: dl=0.689 gl=0.717   da_r=0.563 da_f=0.513   ga=0.373   time=49.953\n",
      "Epoch-10: dl=0.689 gl=0.720   da_r=0.557 da_f=0.520   ga=0.362   time=48.859\n",
      "Epoch-11: dl=0.689 gl=0.721   da_r=0.560 da_f=0.522   ga=0.365   time=49.488\n",
      "Epoch-12: dl=0.689 gl=0.722   da_r=0.551 da_f=0.521   ga=0.361   time=50.621\n",
      "Epoch-13: dl=0.688 gl=0.725   da_r=0.554 da_f=0.523   ga=0.364   time=49.343\n",
      "Epoch-14: dl=0.689 gl=0.724   da_r=0.544 da_f=0.529   ga=0.363   time=47.603\n",
      "Epoch-15: dl=0.690 gl=0.725   da_r=0.542 da_f=0.528   ga=0.367   time=47.745\n",
      "Epoch-16: dl=0.690 gl=0.722   da_r=0.541 da_f=0.522   ga=0.374   time=47.927\n",
      "Epoch-17: dl=0.690 gl=0.723   da_r=0.537 da_f=0.526   ga=0.373   time=47.696\n",
      "Epoch-18: dl=0.691 gl=0.722   da_r=0.541 da_f=0.520   ga=0.376   time=47.900\n",
      "Epoch-19: dl=0.691 gl=0.723   da_r=0.533 da_f=0.523   ga=0.377   time=47.248\n"
     ]
    }
   ],
   "source": [
    "# Train DCGAN\n",
    "D_l, D_a_r, D_a_f, G_l, G_a = train(D, G, GAN, trainX, name='MNIST-D', latent_dim=latent_space)"
   ]
  },
  {
   "cell_type": "code",
   "execution_count": 9,
   "metadata": {},
   "outputs": [
    {
     "data": {
      "image/png": "[encoded data removed]",
      "text/plain": [
       "<Figure size 720x720 with 16 Axes>"
      ]
     },
     "metadata": {
      "needs_background": "light"
     },
     "output_type": "display_data"
    }
   ],
   "source": [
    "tmp_noise = np.random.randn(16 * latent_space).reshape(16,latent_space)\n",
    "\n",
    "images = G.predict(tmp_noise)\n",
    "\n",
    "plt.figure(figsize=(10,10))\n",
    "\n",
    "for im in range(images.shape[0]):\n",
    "    plt.subplot(4, 4, im+1)\n",
    "    image = images[im, :, :, :]\n",
    "    image = np.reshape(image, [28, 28])\n",
    "            \n",
    "    plt.imshow(image, cmap='gray')\n",
    "    plt.axis('off')\n",
    "        \n",
    "plt.tight_layout()\n",
    "plt.show()\n",
    "#plt.savefig(f'output/mnist-d/{epoch}.png')\n",
    "plt.close('all')\n"
   ]
  },
  {
   "cell_type": "code",
   "execution_count": null,
   "metadata": {},
   "outputs": [],
   "source": [
    "'''\n",
    "# Test on fashion-mist\n",
    "# Load dataset\n",
    "fashion_mnist, _ = load_dataset('Fashion-MNIST')\n",
    "\n",
    "# Plot dataset element\n",
    "plt.figure()\n",
    "img = np.reshape(fashion_mnist[1], [28, 28])\n",
    "plt.imshow(img, cmap='gray')\n",
    "plt.show()\n",
    "\n",
    "# Define latent space\n",
    "latent_space = 100\n",
    "in_shape = (fashion_mnist[0].shape[0], fashion_mnist[0].shape[1], 1)\n",
    "\n",
    "print('Shape:', in_shape)\n",
    "\n",
    "# Build Generator and Discriminator\n",
    "D_f = build_discriminator(input_shape=in_shape)\n",
    "G_f = build_generator(latent_dim=latent_space)\n",
    "\n",
    "# Create DCGAN framework\n",
    "GAN_f = build_gan(D_f, G_f, in_shape, latent_space)\n",
    "\n",
    "# Train DCGAN\n",
    "Df_l, Df_a_r, Df_a_f, Gf_l, Gf_a = train(D_f, G_f, GAN_f, fashion_mnist, latent_dim=latent_space)\n",
    "'''"
   ]
  },
  {
   "cell_type": "code",
   "execution_count": null,
   "metadata": {},
   "outputs": [],
   "source": [
    "test = []\n",
    "\n",
    "for i in range(10):\n",
    "    tmp_z = np.random.randn(latent_space).reshape(1,latent_space)\n",
    "\n",
    "    gen = G_f.predict(tmp_z)\n",
    "    test.append(D_f.predict(gen))\n",
    "    print(test[i])\n",
    "    plt.figure()\n",
    "    img = np.reshape(gen, [28, 28])\n",
    "    plt.imshow(img, cmap='gray')\n",
    "    plt.show()\n",
    "    \n"
   ]
  },
  {
   "cell_type": "code",
   "execution_count": 10,
   "metadata": {},
   "outputs": [
    {
     "name": "stdout",
     "output_type": "stream",
     "text": [
      "9360\n"
     ]
    },
    {
     "data": {
      "image/png": "[encoded data removed]",
      "text/plain": [
       "<Figure size 432x288 with 1 Axes>"
      ]
     },
     "metadata": {
      "needs_background": "light"
     },
     "output_type": "display_data"
    }
   ],
   "source": [
    "D_l = np.reshape(D_l, [len(D_l) * len(D_l[0])])\n",
    "print(len(D_l))\n",
    "\n",
    "plt.figure()\n",
    "plt.plot(D_l)\n",
    "plt.show()"
   ]
  },
  {
   "cell_type": "code",
   "execution_count": 11,
   "metadata": {},
   "outputs": [
    {
     "data": {
      "image/png": "[encoded data removed]",
      "text/plain": [
       "<Figure size 432x288 with 1 Axes>"
      ]
     },
     "metadata": {
      "needs_background": "light"
     },
     "output_type": "display_data"
    }
   ],
   "source": [
    "G_l = np.reshape(G_l, [len(G_l) * len(G_l[0])])\n",
    "plt.figure()\n",
    "plt.plot(G_l)\n",
    "plt.show()\n"
   ]
  },
  {
   "cell_type": "code",
   "execution_count": 12,
   "metadata": {},
   "outputs": [
    {
     "data": {
      "image/png": "[encoded data removed]",
      "text/plain": [
       "<Figure size 432x288 with 1 Axes>"
      ]
     },
     "metadata": {
      "needs_background": "light"
     },
     "output_type": "display_data"
    }
   ],
   "source": [
    "#y = np.ones((60000, 1))\n",
    "training_acc = D.predict(trainX)\n",
    "\n",
    "plt.figure()\n",
    "plt.plot(training_acc)\n",
    "plt.show()"
   ]
  },
  {
   "cell_type": "code",
   "execution_count": 13,
   "metadata": {},
   "outputs": [
    {
     "name": "stdout",
     "output_type": "stream",
     "text": [
      "(60000, 1)\n"
     ]
    }
   ],
   "source": [
    "print(training_acc.shape)"
   ]
  },
  {
   "cell_type": "code",
   "execution_count": 14,
   "metadata": {},
   "outputs": [
    {
     "name": "stdout",
     "output_type": "stream",
     "text": [
      "Training Accuracy:  0.5329333333333334\n"
     ]
    }
   ],
   "source": [
    "real = 0\n",
    "fake = 0\n",
    "\n",
    "for i in range(training_acc.shape[0]):\n",
    "    if training_acc[i] >= 0.5:\n",
    "        real += 1\n",
    "    else:\n",
    "        fake += 1\n",
    "\n",
    "print('Training Accuracy: ', real/training_acc.shape[0])"
   ]
  },
  {
   "cell_type": "code",
   "execution_count": 15,
   "metadata": {},
   "outputs": [
    {
     "data": {
      "image/png": "[encoded data removed]",
      "text/plain": [
       "<Figure size 432x288 with 1 Axes>"
      ]
     },
     "metadata": {
      "needs_background": "light"
     },
     "output_type": "display_data"
    },
    {
     "name": "stdout",
     "output_type": "stream",
     "text": [
      "Generated Accuracy:  0.25566666666666665\n"
     ]
    }
   ],
   "source": [
    "# Random generate half_batch fake samples\n",
    "fakeX, fakeY = gen_fake(G, latent_space, training_acc.shape[0])\n",
    "\n",
    "gen_acc = D.predict(fakeX)\n",
    "\n",
    "plt.figure()\n",
    "plt.plot(gen_acc, '.')\n",
    "plt.show()\n",
    "\n",
    "real = 0\n",
    "fake = 0\n",
    "\n",
    "for i in range(training_acc.shape[0]):\n",
    "    if gen_acc[i] >= 0.5:\n",
    "        real += 1\n",
    "    else:\n",
    "        fake += 1\n",
    "\n",
    "print('Generated Accuracy: ', real/training_acc.shape[0])"
   ]
  },
  {
   "cell_type": "code",
   "execution_count": 16,
   "metadata": {},
   "outputs": [
    {
     "name": "stderr",
     "output_type": "stream",
     "text": [
      "COMET INFO: ---------------------------\n",
      "COMET INFO: Comet.ml Experiment Summary\n",
      "COMET INFO: ---------------------------\n",
      "COMET INFO:   Data:\n",
      "COMET INFO:     display_summary_level : 1\n",
      "COMET INFO:     url                   : https://www.comet.ml/kraing/gan/c733b9c7901c42839b98b1daf45a647e\n",
      "COMET INFO:   Metrics [count] (min, max):\n",
      "COMET INFO:     acc_d_fake [9360] : (0.0, 1.0)\n",
      "COMET INFO:     acc_d_real [9360] : (0.171875, 1.0)\n",
      "COMET INFO:     acc_g [9360]      : (0.03125, 1.0)\n",
      "COMET INFO:     loss_d [9360]     : (0.0478312112390995, 1.2468746900558472)\n",
      "COMET INFO:     loss_g [9360]     : (9.94604761217488e-06, 1.4884135723114014)\n",
      "COMET INFO:   Uploads:\n",
      "COMET INFO:     code                     : 1 (14 KB)\n",
      "COMET INFO:     environment details      : 1\n",
      "COMET INFO:     filename                 : 1\n",
      "COMET INFO:     git metadata             : 1\n",
      "COMET INFO:     git-patch (uncompressed) : 1 (211 KB)\n",
      "COMET INFO:     installed packages       : 1\n",
      "COMET INFO:     notebook                 : 1\n",
      "COMET INFO: ---------------------------\n",
      "COMET INFO: Uploading stats to Comet before program termination (may take several seconds)\n"
     ]
    }
   ],
   "source": [
    "\n",
    "# at the end of your training, end the Comet experiment\n",
    "experiment.end()"
   ]
  },
  {
   "cell_type": "code",
   "execution_count": null,
   "metadata": {},
   "outputs": [],
   "source": []
  }
 ],
 "metadata": {
  "kernelspec": {
   "display_name": "Python 3",
   "language": "python",
   "name": "python3"
  },
  "language_info": {
   "codemirror_mode": {
    "name": "ipython",
    "version": 3
   },
   "file_extension": ".py",
   "mimetype": "text/x-python",
   "name": "python",
   "nbconvert_exporter": "python",
   "pygments_lexer": "ipython3",
   "version": "3.7.7"
  }
 },
 "nbformat": 4,
 "nbformat_minor": 2
}
