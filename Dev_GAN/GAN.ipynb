{
 "cells": [
  {
   "cell_type": "code",
   "execution_count": 1,
   "metadata": {},
   "outputs": [
    {
     "name": "stderr",
     "output_type": "stream",
     "text": [
      "Using TensorFlow backend.\n"
     ]
    }
   ],
   "source": [
    "# Numpy and matplotlib\n",
    "import numpy as np\n",
    "import matplotlib.pyplot as plt\n",
    "\n",
    "# Dataset\n",
    "import keras.datasets as ds\n",
    "\n",
    "# Unconditional GAN\n",
    "from keras.optimizers import Adam\n",
    "from keras.models import Sequential\n",
    "from keras.layers import Dense, Reshape, Flatten, Conv2D, Conv2DTranspose, LeakyReLU, Dropout, BatchNormalization, UpSampling2D\n",
    "\n",
    "# Conditional GAN\n",
    "from keras.models import Model\n",
    "from keras.layers import Input, Embedding, Concatenate\n",
    "\n",
    "# Visualization tools\n",
    "from IPython.display import clear_output, Image\n",
    "import time"
   ]
  },
  {
   "cell_type": "code",
   "execution_count": 2,
   "metadata": {},
   "outputs": [],
   "source": [
    "# Load selected dataset\n",
    "def load_dataset(dataset):\n",
    "\n",
    "    if dataset == 'MNIST':\n",
    "        (trainX, trainy), (_, _) = ds.mnist.load_data()\n",
    "\n",
    "    if dataset == 'Fashion-MNIST':\n",
    "        (trainX, trainy), (_, _) = ds.fashion_mnist.load_data()\n",
    "\n",
    "    # Exapnd to 3D adding one channel\n",
    "    X = np.expand_dims(trainX, axis=-1)\n",
    "\n",
    "    # Convert from int to float and rescale from [0, 255] to [-1, 1]\n",
    "    X = X.astype('float32')\n",
    "    X = (X - (255 / 2)) / (255 / 2)\n",
    "    #X = X / 255.\n",
    "    return [X, trainy]\n",
    "\n",
    "\n",
    "\n",
    "# Build Discriminator\n",
    "def build_discriminator(input_shape):\n",
    "\n",
    "    # Initialize the NN\n",
    "    model = Sequential()\n",
    "\n",
    "    # First convolutional layer\n",
    "    model.add(Conv2D(128, 3, strides=2, padding='same', input_shape=input_shape))\n",
    "    model.add(LeakyReLU(alpha=0.2))\n",
    "    model.add(Dropout(0.4))\n",
    "\n",
    "    # Second convolutional layer\n",
    "    model.add(Conv2D(256, 3, strides=2, padding='same'))\n",
    "    model.add(LeakyReLU(alpha=0.2))\n",
    "    model.add(Dropout(0.4))\n",
    "    \n",
    "    # Second convolutional layer\n",
    "    model.add(Conv2D(512, 3, strides=2, padding='same'))\n",
    "    model.add(LeakyReLU(alpha=0.2))\n",
    "    model.add(Dropout(0.4))\n",
    "\n",
    "    # Flattening and output layer\n",
    "    model.add(Flatten())\n",
    "    model.add(Dense(1, activation='sigmoid'))\n",
    "\n",
    "    opt = Adam(lr=0.0002, beta_1=0.5)\n",
    "    model.compile(loss='binary_crossentropy', optimizer=opt, metrics=['accuracy'])\n",
    "    return model\n",
    "\n",
    "\n",
    "\n",
    "# Build Generator with default latent_space=100\n",
    "def build_generator(latent_dim=100):\n",
    "\n",
    "    # Initialize the NN\n",
    "    model = Sequential()\n",
    "\n",
    "    # Fully connected layer\n",
    "    model.add(Dense(7 * 7 * 512, input_dim=latent_dim))\n",
    "    model.add(BatchNormalization(momentum=0.9))\n",
    "    model.add(LeakyReLU(alpha=0.2))\n",
    "    model.add(Reshape((7, 7, 512)))\n",
    "    model.add(Dropout(0.4))\n",
    "\n",
    "    # First upsampling layer 14x14\n",
    "    model.add(UpSampling2D())\n",
    "    model.add(Conv2D(256, 3, padding='same'))\n",
    "    model.add(BatchNormalization(momentum=0.9))\n",
    "    model.add(LeakyReLU(alpha=0.2))\n",
    "    \n",
    "    # Second upsampling layer 28x28\n",
    "    model.add(UpSampling2D())\n",
    "    model.add(Conv2D(128, 3, padding='same'))\n",
    "    model.add(BatchNormalization(momentum=0.9))\n",
    "    model.add(LeakyReLU(alpha=0.2))\n",
    "    \n",
    "    # Second upsampling layer 28x28\n",
    "    model.add(Conv2D(64, 3, padding='same'))\n",
    "    model.add(BatchNormalization(momentum=0.9))\n",
    "    model.add(LeakyReLU(alpha=0.2))\n",
    "    \n",
    "    # Output layer\n",
    "    model.add(Conv2D(1, 3, activation='tanh', padding='same'))\n",
    "    return model\n",
    "\n",
    "\n",
    "\n",
    "# Build the GAN framework\n",
    "def build_gan(D, G, input_shape, latent_dim):\n",
    "\n",
    "    opt = Adam(lr=0.0002, beta_1=0.5)\n",
    "\n",
    "    # Freeze discriminator weights during generator training\n",
    "    D.trainable = False\n",
    "    #D.compile(loss='binary_crossentropy', optimizer=opt, metrics=['accuracy'])\n",
    "    \n",
    "    # Connect generator and discriminator\n",
    "    GAN = Sequential()\n",
    "    GAN.add(G)\n",
    "    GAN.add(D)\n",
    "    GAN.compile(loss='binary_crossentropy', optimizer=opt, metrics=['accuracy'])\n",
    "    return GAN"
   ]
  },
  {
   "cell_type": "code",
   "execution_count": 3,
   "metadata": {},
   "outputs": [],
   "source": [
    "def gen_real(dataset, batch_size):\n",
    "    X = dataset[np.random.randint(0, dataset.shape[0], size=batch_size), :, :, :]\n",
    "    y = np.ones((batch_size, 1))\n",
    "    return X, y\n",
    "\n",
    "\n",
    "def gen_fake(G, latent_dim, batch_size):\n",
    "    z = np.random.randn(latent_dim * batch_size)\n",
    "    z = z.reshape(batch_size, latent_dim)\n",
    "    X = G.predict(z)\n",
    "    y = np.zeros((batch_size, 1))\n",
    "    return X, y\n",
    "\n",
    "\n",
    "# Train the GAN\n",
    "def train(D, G, GAN, dataset, latent_dim=100, epochs=20, batch_size=128):\n",
    "    \n",
    "    batch_per_epoch = int(dataset.shape[0] / batch_size)\n",
    "    half_batch = int(batch_size / 2)\n",
    "    \n",
    "    D_loss = []\n",
    "    D_acc = []\n",
    "    G_loss = []\n",
    "    G_acc = []\n",
    "    \n",
    "    etime = []\n",
    "    \n",
    "\n",
    "    # Loop over epochs\n",
    "    for epoch in range(epochs):\n",
    "        \n",
    "        start_t = time.time()\n",
    "        \n",
    "        eD_loss = []\n",
    "        eD_acc = []\n",
    "        eG_loss = []\n",
    "        eG_acc = []\n",
    "        \n",
    "        for mbatch in range(batch_per_epoch):\n",
    "\n",
    "            # Random select half_batch real samples\n",
    "            realX, realY = gen_real(dataset, half_batch)\n",
    "            \n",
    "            # Random generate half_batch fake samples\n",
    "            fakeX, fakeY = gen_fake(G, latent_dim, half_batch)\n",
    "\n",
    "            # Stacks all samples together and train the discriminator\n",
    "            X, y = np.vstack((realX, fakeX)), np.vstack((realY, fakeY))\n",
    "            D_stats = D.train_on_batch(X, y)\n",
    "            \n",
    "            # Generate random noise and labels to train the Generator\n",
    "            Z_gan = np.random.randn(latent_dim * batch_size).reshape(batch_size, latent_dim)\n",
    "            y_gan = np.ones((batch_size, 1))\n",
    "            G_stats = GAN.train_on_batch(Z_gan, y_gan)\n",
    "            \n",
    "            # Save batch parameters\n",
    "            eD_loss.append(D_stats[0])\n",
    "            eD_acc.append(D_stats[1])\n",
    "            eG_loss.append(G_stats[0])\n",
    "            eG_acc.append(G_stats[1])\n",
    "        \n",
    "        end_t = time.time()\n",
    "        \n",
    "        # Save all\n",
    "        D_loss.append(eD_loss)\n",
    "        D_acc.append(eD_acc)\n",
    "        G_loss.append(eG_loss)\n",
    "        G_acc.append(eG_acc)\n",
    "        etime.append(end_t - start_t)\n",
    "        \n",
    "        # Print epoch mean value\n",
    "        print('Epoch-%d: dl=%.3f gl=%.3f da=%.3f ga=%.3f time=%f' %(epoch, np.mean(eD_loss), np.mean(eG_loss), np.mean(eD_acc), np.mean(eG_acc), (etime[epoch])))\n",
    "\n",
    "    return D_loss, D_acc, G_loss, G_acc"
   ]
  },
  {
   "cell_type": "code",
   "execution_count": 4,
   "metadata": {},
   "outputs": [
    {
     "data": {
      "image/png": "[encoded data removed]",
      "text/plain": [
       "<Figure size 432x288 with 1 Axes>"
      ]
     },
     "metadata": {
      "needs_background": "light"
     },
     "output_type": "display_data"
    },
    {
     "name": "stdout",
     "output_type": "stream",
     "text": [
      "(28, 28, 1)\n",
      "Model: \"sequential_1\"\n",
      "_________________________________________________________________\n",
      "Layer (type)                 Output Shape              Param #   \n",
      "=================================================================\n",
      "conv2d_1 (Conv2D)            (None, 14, 14, 128)       1280      \n",
      "_________________________________________________________________\n",
      "leaky_re_lu_1 (LeakyReLU)    (None, 14, 14, 128)       0         \n",
      "_________________________________________________________________\n",
      "dropout_1 (Dropout)          (None, 14, 14, 128)       0         \n",
      "_________________________________________________________________\n",
      "conv2d_2 (Conv2D)            (None, 7, 7, 256)         295168    \n",
      "_________________________________________________________________\n",
      "leaky_re_lu_2 (LeakyReLU)    (None, 7, 7, 256)         0         \n",
      "_________________________________________________________________\n",
      "dropout_2 (Dropout)          (None, 7, 7, 256)         0         \n",
      "_________________________________________________________________\n",
      "conv2d_3 (Conv2D)            (None, 4, 4, 512)         1180160   \n",
      "_________________________________________________________________\n",
      "leaky_re_lu_3 (LeakyReLU)    (None, 4, 4, 512)         0         \n",
      "_________________________________________________________________\n",
      "dropout_3 (Dropout)          (None, 4, 4, 512)         0         \n",
      "_________________________________________________________________\n",
      "flatten_1 (Flatten)          (None, 8192)              0         \n",
      "_________________________________________________________________\n",
      "dense_1 (Dense)              (None, 1)                 8193      \n",
      "=================================================================\n",
      "Total params: 2,969,602\n",
      "Trainable params: 1,484,801\n",
      "Non-trainable params: 1,484,801\n",
      "_________________________________________________________________\n"
     ]
    },
    {
     "name": "stderr",
     "output_type": "stream",
     "text": [
      "C:\\Users\\Ax09\\Anaconda3\\envs\\tensorflow_gpuenv\\lib\\site-packages\\keras\\engine\\training.py:297: UserWarning: Discrepancy between trainable weights and collected trainable weights, did you set `model.trainable` without calling `model.compile` after ?\n",
      "  'Discrepancy between trainable weights and collected trainable'\n"
     ]
    }
   ],
   "source": [
    "# Load dataset\n",
    "trainX, trainy = load_dataset('MNIST')\n",
    "\n",
    "plt.figure()\n",
    "img = np.reshape(trainX[1], [28, 28])\n",
    "plt.imshow(img, cmap='gray')\n",
    "plt.show()\n",
    "\n",
    "# Define latent space\n",
    "latent_space = 100\n",
    "in_shape = (trainX[0].shape[0], trainX[0].shape[1], 1)\n",
    "\n",
    "print(in_shape)\n",
    "\n",
    "# Build Generator and Discriminator\n",
    "D = build_discriminator(input_shape=in_shape)\n",
    "G = build_generator(latent_dim=latent_space)\n",
    "\n",
    "# Create DCGAN framework\n",
    "GAN = build_gan(D, G, in_shape, latent_space)\n",
    "\n",
    "D.summary()\n",
    "# Train DCGAN\n",
    "#D_l, D_a, G_l, G_a = train(D, G, GAN, trainX)"
   ]
  },
  {
   "cell_type": "code",
   "execution_count": 5,
   "metadata": {},
   "outputs": [
    {
     "name": "stdout",
     "output_type": "stream",
     "text": [
      "Model: \"sequential_2\"\n",
      "_________________________________________________________________\n",
      "Layer (type)                 Output Shape              Param #   \n",
      "=================================================================\n",
      "dense_2 (Dense)              (None, 25088)             2533888   \n",
      "_________________________________________________________________\n",
      "batch_normalization_1 (Batch (None, 25088)             100352    \n",
      "_________________________________________________________________\n",
      "leaky_re_lu_4 (LeakyReLU)    (None, 25088)             0         \n",
      "_________________________________________________________________\n",
      "reshape_1 (Reshape)          (None, 7, 7, 512)         0         \n",
      "_________________________________________________________________\n",
      "dropout_4 (Dropout)          (None, 7, 7, 512)         0         \n",
      "_________________________________________________________________\n",
      "up_sampling2d_1 (UpSampling2 (None, 14, 14, 512)       0         \n",
      "_________________________________________________________________\n",
      "conv2d_4 (Conv2D)            (None, 14, 14, 256)       1179904   \n",
      "_________________________________________________________________\n",
      "batch_normalization_2 (Batch (None, 14, 14, 256)       1024      \n",
      "_________________________________________________________________\n",
      "leaky_re_lu_5 (LeakyReLU)    (None, 14, 14, 256)       0         \n",
      "_________________________________________________________________\n",
      "up_sampling2d_2 (UpSampling2 (None, 28, 28, 256)       0         \n",
      "_________________________________________________________________\n",
      "conv2d_5 (Conv2D)            (None, 28, 28, 128)       295040    \n",
      "_________________________________________________________________\n",
      "batch_normalization_3 (Batch (None, 28, 28, 128)       512       \n",
      "_________________________________________________________________\n",
      "leaky_re_lu_6 (LeakyReLU)    (None, 28, 28, 128)       0         \n",
      "_________________________________________________________________\n",
      "conv2d_6 (Conv2D)            (None, 28, 28, 64)        73792     \n",
      "_________________________________________________________________\n",
      "batch_normalization_4 (Batch (None, 28, 28, 64)        256       \n",
      "_________________________________________________________________\n",
      "leaky_re_lu_7 (LeakyReLU)    (None, 28, 28, 64)        0         \n",
      "_________________________________________________________________\n",
      "conv2d_7 (Conv2D)            (None, 28, 28, 1)         577       \n",
      "=================================================================\n",
      "Total params: 4,185,345\n",
      "Trainable params: 4,134,273\n",
      "Non-trainable params: 51,072\n",
      "_________________________________________________________________\n"
     ]
    }
   ],
   "source": [
    "G.summary()"
   ]
  },
  {
   "cell_type": "code",
   "execution_count": 6,
   "metadata": {},
   "outputs": [
    {
     "name": "stdout",
     "output_type": "stream",
     "text": [
      "Model: \"sequential_3\"\n",
      "_________________________________________________________________\n",
      "Layer (type)                 Output Shape              Param #   \n",
      "=================================================================\n",
      "sequential_2 (Sequential)    (None, 28, 28, 1)         4185345   \n",
      "_________________________________________________________________\n",
      "sequential_1 (Sequential)    (None, 1)                 1484801   \n",
      "=================================================================\n",
      "Total params: 5,670,146\n",
      "Trainable params: 4,134,273\n",
      "Non-trainable params: 1,535,873\n",
      "_________________________________________________________________\n"
     ]
    }
   ],
   "source": [
    "GAN.summary()"
   ]
  },
  {
   "cell_type": "code",
   "execution_count": 7,
   "metadata": {},
   "outputs": [
    {
     "name": "stderr",
     "output_type": "stream",
     "text": [
      "C:\\Users\\Ax09\\Anaconda3\\envs\\tensorflow_gpuenv\\lib\\site-packages\\keras\\engine\\training.py:297: UserWarning: Discrepancy between trainable weights and collected trainable weights, did you set `model.trainable` without calling `model.compile` after ?\n",
      "  'Discrepancy between trainable weights and collected trainable'\n"
     ]
    },
    {
     "name": "stdout",
     "output_type": "stream",
     "text": [
      "Epoch-0: dl=0.623 gl=0.646 da=0.574 ga=0.505 time=71.220645\n",
      "Epoch-1: dl=0.690 gl=0.716 da=0.532 ga=0.391 time=65.535839\n",
      "Epoch-2: dl=0.687 gl=0.719 da=0.547 ga=0.397 time=65.421155\n",
      "Epoch-3: dl=0.685 gl=0.726 da=0.554 ga=0.389 time=65.423038\n",
      "Epoch-4: dl=0.682 gl=0.734 da=0.562 ga=0.386 time=65.413205\n",
      "Epoch-5: dl=0.681 gl=0.739 da=0.562 ga=0.391 time=65.430457\n",
      "Epoch-6: dl=0.679 gl=0.746 da=0.569 ga=0.387 time=65.434224\n",
      "Epoch-7: dl=0.677 gl=0.752 da=0.573 ga=0.392 time=65.452422\n",
      "Epoch-8: dl=0.675 gl=0.763 da=0.576 ga=0.379 time=65.399643\n",
      "Epoch-9: dl=0.674 gl=0.760 da=0.576 ga=0.391 time=65.411347\n",
      "Epoch-10: dl=0.673 gl=0.764 da=0.581 ga=0.384 time=65.437636\n",
      "Epoch-11: dl=0.673 gl=0.766 da=0.583 ga=0.390 time=65.417270\n",
      "Epoch-12: dl=0.673 gl=0.767 da=0.580 ga=0.389 time=65.400927\n",
      "Epoch-13: dl=0.672 gl=0.770 da=0.582 ga=0.385 time=65.842083\n",
      "Epoch-14: dl=0.671 gl=0.771 da=0.583 ga=0.393 time=65.445494\n",
      "Epoch-15: dl=0.672 gl=0.769 da=0.583 ga=0.391 time=65.414110\n",
      "Epoch-16: dl=0.671 gl=0.773 da=0.585 ga=0.390 time=65.419527\n",
      "Epoch-17: dl=0.674 gl=0.764 da=0.580 ga=0.393 time=65.444951\n",
      "Epoch-18: dl=0.673 gl=0.766 da=0.580 ga=0.397 time=65.476376\n",
      "Epoch-19: dl=0.674 gl=0.767 da=0.578 ga=0.393 time=65.447422\n"
     ]
    }
   ],
   "source": [
    "# Train DCGAN\n",
    "D_l, D_a, G_l, G_a = train(D, G, GAN, trainX, latent_dim=latent_space)"
   ]
  },
  {
   "cell_type": "code",
   "execution_count": 8,
   "metadata": {},
   "outputs": [
    {
     "data": {
      "image/png": "[encoded data removed]",
      "text/plain": [
       "<Figure size 432x288 with 1 Axes>"
      ]
     },
     "metadata": {
      "needs_background": "light"
     },
     "output_type": "display_data"
    },
    {
     "data": {
      "image/png": "[encoded data removed]",
      "text/plain": [
       "<Figure size 432x288 with 1 Axes>"
      ]
     },
     "metadata": {
      "needs_background": "light"
     },
     "output_type": "display_data"
    },
    {
     "data": {
      "image/png": "[encoded data removed]",
      "text/plain": [
       "<Figure size 432x288 with 1 Axes>"
      ]
     },
     "metadata": {
      "needs_background": "light"
     },
     "output_type": "display_data"
    },
    {
     "data": {
      "image/png": "[encoded data removed]",
      "text/plain": [
       "<Figure size 432x288 with 1 Axes>"
      ]
     },
     "metadata": {
      "needs_background": "light"
     },
     "output_type": "display_data"
    },
    {
     "data": {
      "image/png": "[encoded data removed]",
      "text/plain": [
       "<Figure size 432x288 with 1 Axes>"
      ]
     },
     "metadata": {
      "needs_background": "light"
     },
     "output_type": "display_data"
    },
    {
     "data": {
      "image/png": "[encoded data removed]",
      "text/plain": [
       "<Figure size 432x288 with 1 Axes>"
      ]
     },
     "metadata": {
      "needs_background": "light"
     },
     "output_type": "display_data"
    },
    {
     "data": {
      "image/png": "[encoded data removed]",
      "text/plain": [
       "<Figure size 432x288 with 1 Axes>"
      ]
     },
     "metadata": {
      "needs_background": "light"
     },
     "output_type": "display_data"
    },
    {
     "data": {
      "image/png": "[encoded data removed]",
      "text/plain": [
       "<Figure size 432x288 with 1 Axes>"
      ]
     },
     "metadata": {
      "needs_background": "light"
     },
     "output_type": "display_data"
    },
    {
     "data": {
      "image/png": "[encoded data removed]",
      "text/plain": [
       "<Figure size 432x288 with 1 Axes>"
      ]
     },
     "metadata": {
      "needs_background": "light"
     },
     "output_type": "display_data"
    },
    {
     "data": {
      "image/png": "[encoded data removed]",
      "text/plain": [
       "<Figure size 432x288 with 1 Axes>"
      ]
     },
     "metadata": {
      "needs_background": "light"
     },
     "output_type": "display_data"
    }
   ],
   "source": [
    "for i in range(10):\n",
    "    tmp_z = np.random.randn(latent_space).reshape(1,latent_space)\n",
    "\n",
    "    gen = G.predict(tmp_z)\n",
    "    \n",
    "    plt.figure()\n",
    "    img = np.reshape(gen, [28, 28])\n",
    "    plt.imshow(img, cmap='gray')\n",
    "    plt.show()\n",
    "\n",
    "    #plt.imshow(gen[0, :, :, 0], cmap='grey')\n",
    "    #plt.show()"
   ]
  },
  {
   "cell_type": "code",
   "execution_count": 9,
   "metadata": {},
   "outputs": [
    {
     "data": {
      "image/png": "[encoded data removed]",
      "text/plain": [
       "<Figure size 432x288 with 1 Axes>"
      ]
     },
     "metadata": {
      "needs_background": "light"
     },
     "output_type": "display_data"
    },
    {
     "name": "stdout",
     "output_type": "stream",
     "text": [
      "Shape: (28, 28, 1)\n"
     ]
    },
    {
     "name": "stderr",
     "output_type": "stream",
     "text": [
      "C:\\Users\\Ax09\\Anaconda3\\envs\\tensorflow_gpuenv\\lib\\site-packages\\keras\\engine\\training.py:297: UserWarning: Discrepancy between trainable weights and collected trainable weights, did you set `model.trainable` without calling `model.compile` after ?\n",
      "  'Discrepancy between trainable weights and collected trainable'\n"
     ]
    },
    {
     "name": "stdout",
     "output_type": "stream",
     "text": [
      "Epoch-0: dl=0.660 gl=0.625 da=0.546 ga=0.557 time=69.101049\n",
      "Epoch-1: dl=0.671 gl=0.731 da=0.591 ga=0.374 time=65.502671\n",
      "Epoch-2: dl=0.672 gl=0.760 da=0.585 ga=0.358 time=65.453569\n",
      "Epoch-3: dl=0.652 gl=0.778 da=0.616 ga=0.370 time=65.483100\n",
      "Epoch-4: dl=0.660 gl=0.790 da=0.605 ga=0.354 time=65.475641\n",
      "Epoch-5: dl=0.667 gl=0.783 da=0.592 ga=0.343 time=65.479199\n",
      "Epoch-6: dl=0.663 gl=0.787 da=0.601 ga=0.357 time=65.465931\n",
      "Epoch-7: dl=0.659 gl=0.796 da=0.608 ga=0.356 time=65.497054\n",
      "Epoch-8: dl=0.665 gl=0.785 da=0.592 ga=0.359 time=66.147664\n",
      "Epoch-9: dl=0.670 gl=0.781 da=0.585 ga=0.350 time=65.849646\n",
      "Epoch-10: dl=0.669 gl=0.781 da=0.585 ga=0.351 time=66.176798\n",
      "Epoch-11: dl=0.668 gl=0.779 da=0.589 ga=0.362 time=65.665051\n",
      "Epoch-12: dl=0.666 gl=0.791 da=0.594 ga=0.346 time=65.527933\n",
      "Epoch-13: dl=0.667 gl=0.786 da=0.588 ga=0.357 time=65.496222\n",
      "Epoch-14: dl=0.670 gl=0.785 da=0.585 ga=0.348 time=68.522987\n",
      "Epoch-15: dl=0.668 gl=0.790 da=0.588 ga=0.344 time=67.588303\n",
      "Epoch-16: dl=0.669 gl=0.788 da=0.585 ga=0.350 time=66.258944\n",
      "Epoch-17: dl=0.666 gl=0.792 da=0.593 ga=0.353 time=66.466005\n",
      "Epoch-18: dl=0.669 gl=0.790 da=0.587 ga=0.345 time=65.493692\n",
      "Epoch-19: dl=0.666 gl=0.790 da=0.591 ga=0.356 time=65.459855\n"
     ]
    }
   ],
   "source": [
    "# Test on fashion-mist\n",
    "# Load dataset\n",
    "fashion_mnist, _ = load_dataset('Fashion-MNIST')\n",
    "\n",
    "# Plot dataset element\n",
    "plt.figure()\n",
    "img = np.reshape(fashion_mnist[1], [28, 28])\n",
    "plt.imshow(img, cmap='gray')\n",
    "plt.show()\n",
    "\n",
    "# Define latent space\n",
    "latent_space = 100\n",
    "in_shape = (fashion_mnist[0].shape[0], fashion_mnist[0].shape[1], 1)\n",
    "\n",
    "print('Shape:', in_shape)\n",
    "\n",
    "# Build Generator and Discriminator\n",
    "D_f = build_discriminator(input_shape=in_shape)\n",
    "G_f = build_generator(latent_dim=latent_space)\n",
    "\n",
    "# Create DCGAN framework\n",
    "GAN_f = build_gan(D_f, G_f, in_shape, latent_space)\n",
    "\n",
    "# Train DCGAN\n",
    "Df_l, Df_a, Gf_l, Gf_a = train(D_f, G_f, GAN_f, fashion_mnist, latent_dim=latent_space)\n"
   ]
  },
  {
   "cell_type": "code",
   "execution_count": 13,
   "metadata": {},
   "outputs": [
    {
     "name": "stdout",
     "output_type": "stream",
     "text": [
      "[[0.57945824]]\n"
     ]
    },
    {
     "data": {
      "image/png": "[encoded data removed]",
      "text/plain": [
       "<Figure size 432x288 with 1 Axes>"
      ]
     },
     "metadata": {
      "needs_background": "light"
     },
     "output_type": "display_data"
    },
    {
     "name": "stdout",
     "output_type": "stream",
     "text": [
      "[[0.4571413]]\n"
     ]
    },
    {
     "data": {
      "image/png": "[encoded data removed]",
      "text/plain": [
       "<Figure size 432x288 with 1 Axes>"
      ]
     },
     "metadata": {
      "needs_background": "light"
     },
     "output_type": "display_data"
    },
    {
     "name": "stdout",
     "output_type": "stream",
     "text": [
      "[[0.49060157]]\n"
     ]
    },
    {
     "data": {
      "image/png": "[encoded data removed]",
      "text/plain": [
       "<Figure size 432x288 with 1 Axes>"
      ]
     },
     "metadata": {
      "needs_background": "light"
     },
     "output_type": "display_data"
    },
    {
     "name": "stdout",
     "output_type": "stream",
     "text": [
      "[[0.3568829]]\n"
     ]
    },
    {
     "data": {
      "image/png": "[encoded data removed]",
      "text/plain": [
       "<Figure size 432x288 with 1 Axes>"
      ]
     },
     "metadata": {
      "needs_background": "light"
     },
     "output_type": "display_data"
    },
    {
     "name": "stdout",
     "output_type": "stream",
     "text": [
      "[[0.60580534]]\n"
     ]
    },
    {
     "data": {
      "image/png": "[encoded data removed]",
      "text/plain": [
       "<Figure size 432x288 with 1 Axes>"
      ]
     },
     "metadata": {
      "needs_background": "light"
     },
     "output_type": "display_data"
    },
    {
     "name": "stdout",
     "output_type": "stream",
     "text": [
      "[[0.4143003]]\n"
     ]
    },
    {
     "data": {
      "image/png": "[encoded data removed]",
      "text/plain": [
       "<Figure size 432x288 with 1 Axes>"
      ]
     },
     "metadata": {
      "needs_background": "light"
     },
     "output_type": "display_data"
    },
    {
     "name": "stdout",
     "output_type": "stream",
     "text": [
      "[[0.5558281]]\n"
     ]
    },
    {
     "data": {
      "image/png": "[encoded data removed]",
      "text/plain": [
       "<Figure size 432x288 with 1 Axes>"
      ]
     },
     "metadata": {
      "needs_background": "light"
     },
     "output_type": "display_data"
    },
    {
     "name": "stdout",
     "output_type": "stream",
     "text": [
      "[[0.3435298]]\n"
     ]
    },
    {
     "data": {
      "image/png": "[encoded data removed]",
      "text/plain": [
       "<Figure size 432x288 with 1 Axes>"
      ]
     },
     "metadata": {
      "needs_background": "light"
     },
     "output_type": "display_data"
    },
    {
     "name": "stdout",
     "output_type": "stream",
     "text": [
      "[[0.4665239]]\n"
     ]
    },
    {
     "data": {
      "image/png": "[encoded data removed]",
      "text/plain": [
       "<Figure size 432x288 with 1 Axes>"
      ]
     },
     "metadata": {
      "needs_background": "light"
     },
     "output_type": "display_data"
    },
    {
     "name": "stdout",
     "output_type": "stream",
     "text": [
      "[[0.47590944]]\n"
     ]
    },
    {
     "data": {
      "image/png": "[encoded data removed]",
      "text/plain": [
       "<Figure size 432x288 with 1 Axes>"
      ]
     },
     "metadata": {
      "needs_background": "light"
     },
     "output_type": "display_data"
    }
   ],
   "source": [
    "test = []\n",
    "\n",
    "for i in range(10):\n",
    "    tmp_z = np.random.randn(latent_space).reshape(1,latent_space)\n",
    "\n",
    "    gen = G_f.predict(tmp_z)\n",
    "    test.append(D_f.predict(gen))\n",
    "    print(test[i])\n",
    "    plt.figure()\n",
    "    img = np.reshape(gen, [28, 28])\n",
    "    plt.imshow(img, cmap='gray')\n",
    "    plt.show()\n",
    "    \n"
   ]
  },
  {
   "cell_type": "code",
   "execution_count": 11,
   "metadata": {},
   "outputs": [
    {
     "name": "stdout",
     "output_type": "stream",
     "text": [
      "9360\n"
     ]
    },
    {
     "data": {
      "image/png": "[encoded data removed]",
      "text/plain": [
       "<Figure size 432x288 with 1 Axes>"
      ]
     },
     "metadata": {
      "needs_background": "light"
     },
     "output_type": "display_data"
    }
   ],
   "source": [
    "D_l = np.reshape(D_l, [len(D_l) * len(D_l[0])])\n",
    "print(len(D_l))\n",
    "\n",
    "plt.figure()\n",
    "plt.plot(D_l)\n",
    "plt.show()"
   ]
  },
  {
   "cell_type": "code",
   "execution_count": 12,
   "metadata": {},
   "outputs": [
    {
     "data": {
      "image/png": "[encoded data removed]",
      "text/plain": [
       "<Figure size 432x288 with 1 Axes>"
      ]
     },
     "metadata": {
      "needs_background": "light"
     },
     "output_type": "display_data"
    }
   ],
   "source": [
    "G_l = np.reshape(G_l, [len(G_l) * len(G_l[0])])\n",
    "plt.figure()\n",
    "plt.plot(G_l)\n",
    "plt.show()\n"
   ]
  },
  {
   "cell_type": "code",
   "execution_count": null,
   "metadata": {},
   "outputs": [],
   "source": []
  }
 ],
 "metadata": {
  "kernelspec": {
   "display_name": "Python 3",
   "language": "python",
   "name": "python3"
  },
  "language_info": {
   "codemirror_mode": {
    "name": "ipython",
    "version": 3
   },
   "file_extension": ".py",
   "mimetype": "text/x-python",
   "name": "python",
   "nbconvert_exporter": "python",
   "pygments_lexer": "ipython3",
   "version": "3.7.7"
  }
 },
 "nbformat": 4,
 "nbformat_minor": 2
}
