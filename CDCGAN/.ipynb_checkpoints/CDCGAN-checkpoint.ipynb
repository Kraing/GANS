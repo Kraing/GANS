{
 "cells": [
  {
   "cell_type": "code",
   "execution_count": 9,
   "metadata": {},
   "outputs": [],
   "source": [
    "import numpy as np\n",
    "\n",
    "# Unconditional GAN\n",
    "from keras.datasets.fashion_mnist import load_data\n",
    "from keras.optimizers import Adam\n",
    "from keras.models import Sequential\n",
    "from keras.layers import Dense, Reshape, Flatten, Conv2D, Conv2DTranspose, LeakyReLU, Dropout, BatchNormalization\n",
    "\n",
    "# Conditional GAN\n",
    "from keras.models import Model\n",
    "from keras.layers import Input, Embedding, Concatenate"
   ]
  },
  {
   "cell_type": "code",
   "execution_count": 12,
   "metadata": {},
   "outputs": [],
   "source": [
    "def build_discriminator(in_shape=(28,28,1), n_classes=10):\n",
    "    \n",
    "    # Label input\n",
    "    in_label = Input(shape=(1,))\n",
    "    \n",
    "    # Embedding for categorical input\n",
    "    li = Embedding(n_classes, 50)(in_label)\n",
    "    \n",
    "    # Scale uo to image dimensions with linear activation\n",
    "    n_nodes  = in_shape[0] * in_shape[1]\n",
    "    li = Dense(n_nodes)(li)\n",
    "    \n",
    "    # Reshape to additional channel\n",
    "    li = Reshape((in_shape[0], in_shape[1], 1))(li)\n",
    "    \n",
    "    # Image input\n",
    "    in_image = Input(shape=in_shape)\n",
    "    \n",
    "    # Concatenate label as channel\n",
    "    merge = Concatenate()([in_image, li])\n",
    "    \n",
    "    # Convolution Layer 1\n",
    "    fe = Conv2D(128, 3, strides=2, padding='same')(merge)\n",
    "    fe = LeakyReLU(alpha=0.2)(fe)\n",
    "    fe = BatchNormalization()(fe)\n",
    "    \n",
    "    # Convolution Layer 2\n",
    "    fe = Conv2D(128, 3, strides=2, padding='same')(fe)\n",
    "    fe = LeakyReLU(alpha=0.2)(fe)\n",
    "    fe = BatchNormalization()(fe)\n",
    "    \n",
    "    # Flattening features maps + dropout + output layer\n",
    "    fe = Flatten()(fe)\n",
    "    fe = Dropout(0.4)(fe)\n",
    "    out_layer = Dense(1, activation='sigmoid')(fe)\n",
    "    \n",
    "    # Define model\n",
    "    d_model = Model([in_image, in_label], out_layer)\n",
    "    opt = Adam(lr=0.0002, beta_1=0.5)\n",
    "    d_model.compile(loss='binary_crossentropy', optimizer=opt, metrics=['accuracy'])\n",
    "    return d_model"
   ]
  },
  {
   "cell_type": "code",
   "execution_count": 26,
   "metadata": {},
   "outputs": [],
   "source": [
    "def build_generator(latent_dim, n_classes=10):\n",
    "    \n",
    "    # Label input\n",
    "    in_label = Input(shape=(1,))\n",
    "    \n",
    "    # Embedding for categorical input\n",
    "    li = Embedding(n_classes, 50)(in_label)\n",
    "    \n",
    "    # Linear multiplication\n",
    "    n_nodes = 7 * 7\n",
    "    li = Dense(n_nodes)(li)\n",
    "    li = Reshape((7, 7, 1))(li)\n",
    "    \n",
    "    # Image generator input\n",
    "    in_lat = Input(shape=(latent_dim,))\n",
    "    \n",
    "    # Foundation for 7x7 image\n",
    "    n_nodes = 128 * 7 * 7\n",
    "    gen = Dense(n_nodes)(in_lat)\n",
    "    gen = LeakyReLU(alpha=0.2)(gen)\n",
    "    gen = Reshape((7, 7, 128))(gen)\n",
    "    \n",
    "    # Merge image and label input\n",
    "    merge = Concatenate()([gen, li])\n",
    "    \n",
    "    # Upsample 1 - 14x14\n",
    "    gen = Conv2DTranspose(128, 4, strides=2, padding='same')(merge)\n",
    "    gen = LeakyReLU(alpha=0.2)(gen)\n",
    "    gen = BatchNormalization()(gen)\n",
    "    \n",
    "    # Upsample 2 -28x28\n",
    "    gen = Conv2DTranspose(128, 4, strides=2, padding='same')(gen)\n",
    "    gen = LeakyReLU(alpha=0.2)(gen)\n",
    "    gen = BatchNormalization()(gen)\n",
    "    \n",
    "    # Output layer\n",
    "    out_layer = Conv2D(1, 7, activation='tanh', padding='same')(gen)\n",
    "    \n",
    "    # Define model\n",
    "    g_model = Model([in_lat, in_label], out_layer)\n",
    "    return g_model"
   ]
  },
  {
   "cell_type": "code",
   "execution_count": 63,
   "metadata": {},
   "outputs": [],
   "source": [
    "def build_GAN(g_model, d_model):\n",
    "    \n",
    "    # Make weights in the discriminator not trainable\n",
    "    d_model.trainable = False\n",
    "    \n",
    "    # Get noise and label inputs from generator\n",
    "    gen_noise, gen_label = g_model.input\n",
    "    \n",
    "    #Get image output from the generator\n",
    "    gen_output = g_model.output\n",
    "    \n",
    "    # Connect image output and label input from generator as inputs to discriminator\n",
    "    gan_output = d_model([gen_output, gen_label])\n",
    "    \n",
    "    # Define model\n",
    "    gan_model = Model([gen_noise, gen_label], gan_output)\n",
    "    \n",
    "    # Compile model\n",
    "    opt = Adam(lr=0.0002, beta_1=0.5)\n",
    "    gan_model.compile(loss='binary_crossentropy', optimizer=opt)\n",
    "    \n",
    "    return gan_model"
   ]
  },
  {
   "cell_type": "code",
   "execution_count": 48,
   "metadata": {},
   "outputs": [],
   "source": [
    "def load_real_samples():\n",
    "    \n",
    "    # Load dataset\n",
    "    (trainX, trainy), (_, _) = load_data()\n",
    "    \n",
    "    # Exapnd to 3D adding one channel\n",
    "    X = np.expand_dims(trainX, axis=-1)\n",
    "    \n",
    "    # Convert from int to float and rescale from [0, 255] to [-1, 1]\n",
    "    X = X.astype('float32')\n",
    "    X = (X - (255 / 2)) / (255 / 2)\n",
    "    return [X, trainy]\n",
    "\n",
    "\n",
    "def gen_real_samples(dataset, n_samples):\n",
    "    \n",
    "    # split into images and labels\n",
    "    images, labels = dataset\n",
    "    \n",
    "    # choose random instances\n",
    "    ix = np.random.randint(0, images.shape[0], n_samples)\n",
    "    X, labels = images[ix], labels[ix]\n",
    "    \n",
    "    # generate class labels\n",
    "    y = np.ones((n_samples, 1))\n",
    "    return [X, labels], y"
   ]
  },
  {
   "cell_type": "code",
   "execution_count": 58,
   "metadata": {},
   "outputs": [],
   "source": [
    "def gen_latent_points(latent_dim, n_samples, n_classes=10):\n",
    "    \n",
    "    # generate points\n",
    "    x_input = np.random.randn(latent_dim * n_samples)\n",
    "    \n",
    "    # reshape into batch of input for network\n",
    "    z_input = x_input.reshape(n_samples, latent_dim)\n",
    "    \n",
    "    # generate labels\n",
    "    labels = np.random.randint(0, n_classes, n_samples)\n",
    "    \n",
    "    return [z_input, labels]\n",
    "\n",
    "\n",
    "def gen_fake_samples(generator, latent_dim, n_samples):\n",
    "    \n",
    "    #generate latent space points\n",
    "    z_input, labels_input = gen_latent_points(latent_dim, n_samples)\n",
    "    \n",
    "    # predict outputs\n",
    "    images = generator.predict([z_input, labels_input])\n",
    "    \n",
    "    # create class labels\n",
    "    y = np.zeros((n_samples, 1))\n",
    "    \n",
    "    return [images, labels_input], y\n"
   ]
  },
  {
   "cell_type": "code",
   "execution_count": 69,
   "metadata": {},
   "outputs": [],
   "source": [
    "def train_gan(g_model, d_model, gan_model, dataset, latent_dim, n_epochs, n_batch):\n",
    "    \n",
    "    bat_per_epoch  = int(dataset[0].shape[0] / n_batch)\n",
    "    half_batch = int(bat_per_epoch / 2)\n",
    "    \n",
    "    gen_mean = []\n",
    "    dis_mean = []\n",
    "    \n",
    "    # Loop over epochs\n",
    "    for i in range(n_epochs):\n",
    "        gen_val = []\n",
    "        dis_val = []\n",
    "        # Loop over batches\n",
    "        for j in range(bat_per_epoch):\n",
    "            \n",
    "            # Get random selected 'real' samples\n",
    "            [X_real, labels_real], y_real = gen_real_samples(dataset, half_batch)\n",
    "            \n",
    "            # Update Discriminator weights\n",
    "            d_loss1, _ = d_model.train_on_batch([X_real, labels_real], y_real)\n",
    "            \n",
    "            # Generate fake samples\n",
    "            [X_fake, labels_fake], y_fake = gen_fake_samples(g_model, latent_dim, half_batch)\n",
    "            \n",
    "            # Update Discriminator weights\n",
    "            d_loss2, _ = d_model.train_on_batch([X_fake, labels_fake], y_fake)\n",
    "            \n",
    "            # Prepare points in latent space\n",
    "            [z_input, labels_input] = gen_latent_points(latent_dim, n_batch)\n",
    "            \n",
    "            # create inverted labels for the fake samples\n",
    "            y_gan = np.ones((n_batch, 1))\n",
    "            \n",
    "            # Update the generator via discriminator error\n",
    "            g_loss = gan_model.train_on_batch([z_input, labels_input], y_gan)\n",
    "            \n",
    "            gen_val.append(g_loss)\n",
    "            dis_val.append(d_loss2)\n",
    "        \n",
    "        gen_mean.append(np.mean(gen_val))\n",
    "        dis_mean.append(np.mean(dis_val))\n",
    "        \n",
    "        print('Epoch-%2d: d_loss = %.3f   g_loss = %.3f' % (i, dis_mean[i], gen_mean[i]))\n",
    "        \n",
    "            "
   ]
  },
  {
   "cell_type": "code",
   "execution_count": 39,
   "metadata": {},
   "outputs": [],
   "source": [
    "latent_dim = 100\n",
    "\n",
    "d_model = build_discriminator()\n",
    "\n",
    "g_model = build_generator(latent_dim)\n",
    "\n",
    "gan_model = build_GAN(g_model, d_model)\n",
    "\n",
    "dataset = load_real_samples()\n"
   ]
  },
  {
   "cell_type": "code",
   "execution_count": 70,
   "metadata": {},
   "outputs": [
    {
     "name": "stdout",
     "output_type": "stream",
     "text": [
      "Epoch- 0: d_loss = 0.365   g_loss = 3.040\n",
      "Epoch- 1: d_loss = 0.362   g_loss = 3.038\n",
      "Epoch- 2: d_loss = 0.373   g_loss = 3.041\n",
      "Epoch- 3: d_loss = 0.368   g_loss = 3.086\n",
      "Epoch- 4: d_loss = 0.357   g_loss = 3.147\n",
      "Epoch- 5: d_loss = 0.354   g_loss = 3.167\n",
      "Epoch- 6: d_loss = 0.347   g_loss = 3.254\n",
      "Epoch- 7: d_loss = 0.340   g_loss = 3.273\n",
      "Epoch- 8: d_loss = 0.318   g_loss = 3.417\n",
      "Epoch- 9: d_loss = 0.314   g_loss = 3.492\n"
     ]
    }
   ],
   "source": [
    "train_gan(g_model, d_model, gan_model, dataset, latent_dim, n_epochs=10, n_batch=128)"
   ]
  },
  {
   "cell_type": "code",
   "execution_count": 135,
   "metadata": {},
   "outputs": [
    {
     "name": "stdout",
     "output_type": "stream",
     "text": [
      "10\n"
     ]
    },
    {
     "data": {
      "image/png": "[encoded data removed]",
      "text/plain": [
       "<Figure size 432x288 with 1 Axes>"
      ]
     },
     "metadata": {
      "needs_background": "light"
     },
     "output_type": "display_data"
    },
    {
     "data": {
      "image/png": "[encoded data removed]",
      "text/plain": [
       "<Figure size 432x288 with 1 Axes>"
      ]
     },
     "metadata": {
      "needs_background": "light"
     },
     "output_type": "display_data"
    },
    {
     "data": {
      "image/png": "[encoded data removed]",
      "text/plain": [
       "<Figure size 432x288 with 1 Axes>"
      ]
     },
     "metadata": {
      "needs_background": "light"
     },
     "output_type": "display_data"
    },
    {
     "data": {
      "image/png": "[encoded data removed]",
      "text/plain": [
       "<Figure size 432x288 with 1 Axes>"
      ]
     },
     "metadata": {
      "needs_background": "light"
     },
     "output_type": "display_data"
    },
    {
     "data": {
      "image/png": "[encoded data removed]",
      "text/plain": [
       "<Figure size 432x288 with 1 Axes>"
      ]
     },
     "metadata": {
      "needs_background": "light"
     },
     "output_type": "display_data"
    },
    {
     "data": {
      "image/png": "[encoded data removed]",
      "text/plain": [
       "<Figure size 432x288 with 1 Axes>"
      ]
     },
     "metadata": {
      "needs_background": "light"
     },
     "output_type": "display_data"
    },
    {
     "data": {
      "image/png": "[encoded data removed]",
      "text/plain": [
       "<Figure size 432x288 with 1 Axes>"
      ]
     },
     "metadata": {
      "needs_background": "light"
     },
     "output_type": "display_data"
    },
    {
     "data": {
      "image/png": "[encoded data removed]",
      "text/plain": [
       "<Figure size 432x288 with 1 Axes>"
      ]
     },
     "metadata": {
      "needs_background": "light"
     },
     "output_type": "display_data"
    },
    {
     "data": {
      "image/png": "[encoded data removed]",
      "text/plain": [
       "<Figure size 432x288 with 1 Axes>"
      ]
     },
     "metadata": {
      "needs_background": "light"
     },
     "output_type": "display_data"
    },
    {
     "data": {
      "image/png": "[encoded data removed]",
      "text/plain": [
       "<Figure size 432x288 with 1 Axes>"
      ]
     },
     "metadata": {
      "needs_background": "light"
     },
     "output_type": "display_data"
    }
   ],
   "source": [
    "import matplotlib.pyplot as plt\n",
    "\n",
    "# generate points in latent space as input for the generator\n",
    "def generate_latent_points(latent_dim, n_samples, n_classes=10):\n",
    "\n",
    "    # generate points in the latent space\n",
    "    x_input = np.random.randn(latent_dim * n_samples)\n",
    "    \n",
    "    # reshape into a batch of inputs for the network\n",
    "    z_input = x_input.reshape(n_samples, latent_dim)\n",
    "    \n",
    "    # generate labels\n",
    "    labels = np.random.randint(0, n_classes, n_samples)\n",
    "    return [z_input, labels]\n",
    " \n",
    "# create and save a plot of generated images\n",
    "def save_plot(examples, n):\n",
    "    \n",
    "    # plot images\n",
    "    for i in range(n):\n",
    "        # turn off axis\n",
    "        plt.axis('off')\n",
    "        \n",
    "        # plot raw pixel data\n",
    "        plt.imshow(examples[i, :, :, 0], cmap='gray_r')\n",
    "        plt.show()\n",
    "    return\n",
    "\n",
    "# generate images\n",
    "latent_points, labels = gen_latent_points(100, 10)\n",
    "\n",
    "# specify labels\n",
    "labels = np.asarray([x for _ in range(10) for x in range(10)])\n",
    "\n",
    "#custom_label = np.asarray([0, 1, 2, 3, 4, 5, 6, 7, 8, 9])\n",
    "custom_label = []\n",
    "for i in range(10):\n",
    "    custom_label.append(7)\n",
    "\n",
    "custom_label = np.asarray(custom_label)\n",
    "\n",
    "# generate images\n",
    "X  = g_model.predict([latent_points, custom_label])\n",
    "\n",
    "# scale from [-1,1] to [0,1]\n",
    "X = (X + 1) / 2.0\n",
    "\n",
    "print(len(X))\n",
    "# plot the result\n",
    "save_plot(X, custom_label.shape[0])\n"
   ]
  },
  {
   "cell_type": "code",
   "execution_count": null,
   "metadata": {},
   "outputs": [],
   "source": []
  }
 ],
 "metadata": {
  "kernelspec": {
   "display_name": "Python 3",
   "language": "python",
   "name": "python3"
  },
  "language_info": {
   "codemirror_mode": {
    "name": "ipython",
    "version": 3
   },
   "file_extension": ".py",
   "mimetype": "text/x-python",
   "name": "python",
   "nbconvert_exporter": "python",
   "pygments_lexer": "ipython3",
   "version": "3.7.7"
  }
 },
 "nbformat": 4,
 "nbformat_minor": 4
}
